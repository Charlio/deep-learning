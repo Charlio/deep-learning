{
 "cells": [
  {
   "cell_type": "markdown",
   "metadata": {
    "collapsed": true
   },
   "source": [
    "# Image Classification\n",
    "In this project, you'll classify images from the [CIFAR-10 dataset](https://www.cs.toronto.edu/~kriz/cifar.html).  The dataset consists of airplanes, dogs, cats, and other objects. You'll preprocess the images, then train a convolutional neural network on all the samples. The images need to be normalized and the labels need to be one-hot encoded.  You'll get to apply what you learned and build a convolutional, max pooling, dropout, and fully connected layers.  At the end, you'll get to see your neural network's predictions on the sample images.\n",
    "## Get the Data\n",
    "Run the following cell to download the [CIFAR-10 dataset for python](https://www.cs.toronto.edu/~kriz/cifar-10-python.tar.gz)."
   ]
  },
  {
   "cell_type": "code",
   "execution_count": 2,
   "metadata": {},
   "outputs": [
    {
     "name": "stderr",
     "output_type": "stream",
     "text": [
      "CIFAR-10 Dataset: 171MB [00:56, 3.04MB/s]                                                                              \n"
     ]
    },
    {
     "name": "stdout",
     "output_type": "stream",
     "text": [
      "All files found!\n"
     ]
    }
   ],
   "source": [
    "\"\"\"\n",
    "DON'T MODIFY ANYTHING IN THIS CELL THAT IS BELOW THIS LINE\n",
    "\"\"\"\n",
    "from urllib.request import urlretrieve\n",
    "from os.path import isfile, isdir\n",
    "from tqdm import tqdm\n",
    "import problem_unittests as tests\n",
    "import tarfile\n",
    "\n",
    "cifar10_dataset_folder_path = 'cifar-10-batches-py'\n",
    "\n",
    "# Use Floyd's cifar-10 dataset if present\n",
    "floyd_cifar10_location = '/cifar/cifar-10-python.tar.gz'\n",
    "if isfile(floyd_cifar10_location):\n",
    "    tar_gz_path = floyd_cifar10_location\n",
    "else:\n",
    "    tar_gz_path = 'cifar-10-python.tar.gz'\n",
    "\n",
    "class DLProgress(tqdm):\n",
    "    last_block = 0\n",
    "\n",
    "    def hook(self, block_num=1, block_size=1, total_size=None):\n",
    "        self.total = total_size\n",
    "        self.update((block_num - self.last_block) * block_size)\n",
    "        self.last_block = block_num\n",
    "\n",
    "if not isfile(tar_gz_path):\n",
    "    with DLProgress(unit='B', unit_scale=True, miniters=1, desc='CIFAR-10 Dataset') as pbar:\n",
    "        urlretrieve(\n",
    "            'https://www.cs.toronto.edu/~kriz/cifar-10-python.tar.gz',\n",
    "            tar_gz_path,\n",
    "            pbar.hook)\n",
    "\n",
    "if not isdir(cifar10_dataset_folder_path):\n",
    "    with tarfile.open(tar_gz_path) as tar:\n",
    "        tar.extractall()\n",
    "        tar.close()\n",
    "\n",
    "\n",
    "tests.test_folder_path(cifar10_dataset_folder_path)"
   ]
  },
  {
   "cell_type": "markdown",
   "metadata": {},
   "source": [
    "## Explore the Data\n",
    "The dataset is broken into batches to prevent your machine from running out of memory.  The CIFAR-10 dataset consists of 5 batches, named `data_batch_1`, `data_batch_2`, etc.. Each batch contains the labels and images that are one of the following:\n",
    "* airplane\n",
    "* automobile\n",
    "* bird\n",
    "* cat\n",
    "* deer\n",
    "* dog\n",
    "* frog\n",
    "* horse\n",
    "* ship\n",
    "* truck\n",
    "\n",
    "Understanding a dataset is part of making predictions on the data.  Play around with the code cell below by changing the `batch_id` and `sample_id`. The `batch_id` is the id for a batch (1-5). The `sample_id` is the id for a image and label pair in the batch.\n",
    "\n",
    "Ask yourself \"What are all possible labels?\", \"What is the range of values for the image data?\", \"Are the labels in order or random?\".  Answers to questions like these will help you preprocess the data and end up with better predictions."
   ]
  },
  {
   "cell_type": "code",
   "execution_count": 7,
   "metadata": {},
   "outputs": [
    {
     "name": "stdout",
     "output_type": "stream",
     "text": [
      "\n",
      "Stats of batch 5:\n",
      "Samples: 10000\n",
      "Label Counts: {0: 1014, 1: 1014, 2: 952, 3: 1016, 4: 997, 5: 1025, 6: 980, 7: 977, 8: 1003, 9: 1022}\n",
      "First 20 Labels: [1, 8, 5, 1, 5, 7, 4, 3, 8, 2, 7, 2, 0, 1, 5, 9, 6, 2, 0, 8]\n",
      "\n",
      "Example of Image 9999:\n",
      "Image - Min Value: 4 Max Value: 255\n",
      "Image - Shape: (32, 32, 3)\n",
      "Label - Label Id: 1 Name: automobile\n"
     ]
    },
    {
     "data": {
      "image/png": "[encoded data removed]",
      "text/plain": [
       "<matplotlib.figure.Figure at 0x1dfab637320>"
      ]
     },
     "metadata": {
      "image/png": {
       "height": 250,
       "width": 253
      }
     },
     "output_type": "display_data"
    }
   ],
   "source": [
    "%matplotlib inline\n",
    "%config InlineBackend.figure_format = 'retina'\n",
    "\n",
    "import helper\n",
    "import numpy as np\n",
    "\n",
    "# Explore the dataset\n",
    "batch_id = 5\n",
    "sample_id = 9999\n",
    "helper.display_stats(cifar10_dataset_folder_path, batch_id, sample_id)"
   ]
  },
  {
   "cell_type": "markdown",
   "metadata": {},
   "source": [
    "## Implement Preprocess Functions\n",
    "### Normalize\n",
    "In the cell below, implement the `normalize` function to take in image data, `x`, and return it as a normalized Numpy array. The values should be in the range of 0 to 1, inclusive.  The return object should be the same shape as `x`."
   ]
  },
  {
   "cell_type": "code",
   "execution_count": 9,
   "metadata": {},
   "outputs": [
    {
     "name": "stdout",
     "output_type": "stream",
     "text": [
      "Tests Passed\n"
     ]
    }
   ],
   "source": [
    "def normalize(x):\n",
    "    \"\"\"\n",
    "    Normalize a list of sample image data in the range of 0 to 1\n",
    "    : x: List of image data.  The image shape is (32, 32, 3)\n",
    "    : return: Numpy array of normalize data\n",
    "    \"\"\"\n",
    "    # TODO: Implement Function\n",
    "    max_value = 255\n",
    "    return x/max_value\n",
    "\n",
    "\n",
    "\"\"\"\n",
    "DON'T MODIFY ANYTHING IN THIS CELL THAT IS BELOW THIS LINE\n",
    "\"\"\"\n",
    "tests.test_normalize(normalize)"
   ]
  },
  {
   "cell_type": "markdown",
   "metadata": {},
   "source": [
    "### One-hot encode\n",
    "Just like the previous code cell, you'll be implementing a function for preprocessing.  This time, you'll implement the `one_hot_encode` function. The input, `x`, are a list of labels.  Implement the function to return the list of labels as One-Hot encoded Numpy array.  The possible values for labels are 0 to 9. The one-hot encoding function should return the same encoding for each value between each call to `one_hot_encode`.  Make sure to save the map of encodings outside the function.\n",
    "\n",
    "Hint: Don't reinvent the wheel."
   ]
  },
  {
   "cell_type": "code",
   "execution_count": 12,
   "metadata": {},
   "outputs": [
    {
     "name": "stdout",
     "output_type": "stream",
     "text": [
      "Tests Passed\n"
     ]
    }
   ],
   "source": [
    "def one_hot_encode(x):\n",
    "    \"\"\"\n",
    "    One hot encode a list of sample labels. Return a one-hot encoded vector for each label.\n",
    "    : x: List of sample Labels\n",
    "    : return: Numpy array of one-hot encoded labels\n",
    "    \"\"\"\n",
    "    # TODO: Implement Function\n",
    "    n = len(x)\n",
    "    one_hot_labels = np.zeros((n, 10))\n",
    "    for i in range(n):\n",
    "        one_hot_labels[i][x[i]] = 1\n",
    "    return one_hot_labels\n",
    "\n",
    "\n",
    "\"\"\"\n",
    "DON'T MODIFY ANYTHING IN THIS CELL THAT IS BELOW THIS LINE\n",
    "\"\"\"\n",
    "tests.test_one_hot_encode(one_hot_encode)"
   ]
  },
  {
   "cell_type": "markdown",
   "metadata": {},
   "source": [
    "### Randomize Data\n",
    "As you saw from exploring the data above, the order of the samples are randomized.  It doesn't hurt to randomize it again, but you don't need to for this dataset."
   ]
  },
  {
   "cell_type": "markdown",
   "metadata": {},
   "source": [
    "## Preprocess all the data and save it\n",
    "Running the code cell below will preprocess all the CIFAR-10 data and save it to file. The code below also uses 10% of the training data for validation."
   ]
  },
  {
   "cell_type": "code",
   "execution_count": 13,
   "metadata": {
    "collapsed": true
   },
   "outputs": [],
   "source": [
    "\"\"\"\n",
    "DON'T MODIFY ANYTHING IN THIS CELL\n",
    "\"\"\"\n",
    "# Preprocess Training, Validation, and Testing Data\n",
    "helper.preprocess_and_save_data(cifar10_dataset_folder_path, normalize, one_hot_encode)"
   ]
  },
  {
   "cell_type": "markdown",
   "metadata": {},
   "source": [
    "# Check Point\n",
    "This is your first checkpoint.  If you ever decide to come back to this notebook or have to restart the notebook, you can start from here.  The preprocessed data has been saved to disk."
   ]
  },
  {
   "cell_type": "code",
   "execution_count": 136,
   "metadata": {
    "collapsed": true
   },
   "outputs": [],
   "source": [
    "\"\"\"\n",
    "DON'T MODIFY ANYTHING IN THIS CELL\n",
    "\"\"\"\n",
    "import pickle\n",
    "import problem_unittests as tests\n",
    "import helper\n",
    "\n",
    "# Load the Preprocessed Validation data\n",
    "valid_features, valid_labels = pickle.load(open('preprocess_validation.p', mode='rb'))"
   ]
  },
  {
   "cell_type": "markdown",
   "metadata": {},
   "source": [
    "## Build the network\n",
    "For the neural network, you'll build each layer into a function.  Most of the code you've seen has been outside of functions. To test your code more thoroughly, we require that you put each layer in a function.  This allows us to give you better feedback and test for simple mistakes using our unittests before you submit your project.\n",
    "\n",
    ">**Note:** If you're finding it hard to dedicate enough time for this course each week, we've provided a small shortcut to this part of the project. In the next couple of problems, you'll have the option to use classes from the [TensorFlow Layers](https://www.tensorflow.org/api_docs/python/tf/layers) or [TensorFlow Layers (contrib)](https://www.tensorflow.org/api_guides/python/contrib.layers) packages to build each layer, except the layers you build in the \"Convolutional and Max Pooling Layer\" section.  TF Layers is similar to Keras's and TFLearn's abstraction to layers, so it's easy to pickup.\n",
    "\n",
    ">However, if you would like to get the most out of this course, try to solve all the problems _without_ using anything from the TF Layers packages. You **can** still use classes from other packages that happen to have the same name as ones you find in TF Layers! For example, instead of using the TF Layers version of the `conv2d` class, [tf.layers.conv2d](https://www.tensorflow.org/api_docs/python/tf/layers/conv2d), you would want to use the TF Neural Network version of `conv2d`, [tf.nn.conv2d](https://www.tensorflow.org/api_docs/python/tf/nn/conv2d). \n",
    "\n",
    "Let's begin!\n",
    "\n",
    "### Input\n",
    "The neural network needs to read the image data, one-hot encoded labels, and dropout keep probability. Implement the following functions\n",
    "* Implement `neural_net_image_input`\n",
    " * Return a [TF Placeholder](https://www.tensorflow.org/api_docs/python/tf/placeholder)\n",
    " * Set the shape using `image_shape` with batch size set to `None`.\n",
    " * Name the TensorFlow placeholder \"x\" using the TensorFlow `name` parameter in the [TF Placeholder](https://www.tensorflow.org/api_docs/python/tf/placeholder).\n",
    "* Implement `neural_net_label_input`\n",
    " * Return a [TF Placeholder](https://www.tensorflow.org/api_docs/python/tf/placeholder)\n",
    " * Set the shape using `n_classes` with batch size set to `None`.\n",
    " * Name the TensorFlow placeholder \"y\" using the TensorFlow `name` parameter in the [TF Placeholder](https://www.tensorflow.org/api_docs/python/tf/placeholder).\n",
    "* Implement `neural_net_keep_prob_input`\n",
    " * Return a [TF Placeholder](https://www.tensorflow.org/api_docs/python/tf/placeholder) for dropout keep probability.\n",
    " * Name the TensorFlow placeholder \"keep_prob\" using the TensorFlow `name` parameter in the [TF Placeholder](https://www.tensorflow.org/api_docs/python/tf/placeholder).\n",
    "\n",
    "These names will be used at the end of the project to load your saved model.\n",
    "\n",
    "Note: `None` for shapes in TensorFlow allow for a dynamic size."
   ]
  },
  {
   "cell_type": "code",
   "execution_count": 137,
   "metadata": {},
   "outputs": [
    {
     "name": "stdout",
     "output_type": "stream",
     "text": [
      "Image Input Tests Passed.\n",
      "Label Input Tests Passed.\n",
      "Keep Prob Tests Passed.\n"
     ]
    }
   ],
   "source": [
    "import tensorflow as tf\n",
    "\n",
    "def neural_net_image_input(image_shape):\n",
    "    \"\"\"\n",
    "    Return a Tensor for a batch of image input\n",
    "    : image_shape: Shape of the images\n",
    "    : return: Tensor for image input.\n",
    "    \"\"\"\n",
    "    # TODO: Implement Function\n",
    "    return tf.placeholder(tf.float32, shape=[None] + list(image_shape), name='x')\n",
    "\n",
    "\n",
    "def neural_net_label_input(n_classes):\n",
    "    \"\"\"\n",
    "    Return a Tensor for a batch of label input\n",
    "    : n_classes: Number of classes\n",
    "    : return: Tensor for label input.\n",
    "    \"\"\"\n",
    "    # TODO: Implement Function\n",
    "    return tf.placeholder(tf.float32, shape=[None, n_classes], name='y')\n",
    "\n",
    "\n",
    "def neural_net_keep_prob_input():\n",
    "    \"\"\"\n",
    "    Return a Tensor for keep probability\n",
    "    : return: Tensor for keep probability.\n",
    "    \"\"\"\n",
    "    # TODO: Implement Function\n",
    "    return tf.placeholder(tf.float32, name='keep_prob')\n",
    "\n",
    "\n",
    "\"\"\"\n",
    "DON'T MODIFY ANYTHING IN THIS CELL THAT IS BELOW THIS LINE\n",
    "\"\"\"\n",
    "tf.reset_default_graph()\n",
    "tests.test_nn_image_inputs(neural_net_image_input)\n",
    "tests.test_nn_label_inputs(neural_net_label_input)\n",
    "tests.test_nn_keep_prob_inputs(neural_net_keep_prob_input)"
   ]
  },
  {
   "cell_type": "markdown",
   "metadata": {},
   "source": [
    "### Convolution and Max Pooling Layer\n",
    "Convolution layers have a lot of success with images. For this code cell, you should implement the function `conv2d_maxpool` to apply convolution then max pooling:\n",
    "* Create the weight and bias using `conv_ksize`, `conv_num_outputs` and the shape of `x_tensor`.\n",
    "* Apply a convolution to `x_tensor` using weight and `conv_strides`.\n",
    " * We recommend you use same padding, but you're welcome to use any padding.\n",
    "* Add bias\n",
    "* Add a nonlinear activation to the convolution.\n",
    "* Apply Max Pooling using `pool_ksize` and `pool_strides`.\n",
    " * We recommend you use same padding, but you're welcome to use any padding.\n",
    "\n",
    "**Note:** You **can't** use [TensorFlow Layers](https://www.tensorflow.org/api_docs/python/tf/layers) or [TensorFlow Layers (contrib)](https://www.tensorflow.org/api_guides/python/contrib.layers) for **this** layer, but you can still use TensorFlow's [Neural Network](https://www.tensorflow.org/api_docs/python/tf/nn) package. You may still use the shortcut option for all the **other** layers."
   ]
  },
  {
   "cell_type": "code",
   "execution_count": 138,
   "metadata": {},
   "outputs": [
    {
     "name": "stdout",
     "output_type": "stream",
     "text": [
      "Tests Passed\n"
     ]
    }
   ],
   "source": [
    "def conv2d_maxpool(x_tensor, conv_num_outputs, conv_ksize, conv_strides, pool_ksize, pool_strides):\n",
    "    \"\"\"\n",
    "    Apply convolution then max pooling to x_tensor\n",
    "    :param x_tensor: TensorFlow Tensor\n",
    "    :param conv_num_outputs: Number of outputs for the convolutional layer\n",
    "    :param conv_ksize: kernal size 2-D Tuple for the convolutional layer\n",
    "    :param conv_strides: Stride 2-D Tuple for convolution\n",
    "    :param pool_ksize: kernal size 2-D Tuple for pool\n",
    "    :param pool_strides: Stride 2-D Tuple for pool\n",
    "    : return: A tensor that represents convolution and max pooling of x_tensor\n",
    "    \"\"\"\n",
    "    # TODO: Implement Function\n",
    "    filter_shape=[conv_ksize[0], conv_ksize[1], x_tensor.get_shape().as_list()[3], \n",
    "                  conv_num_outputs]\n",
    "    weights = tf.Variable(tf.truncated_normal(filter_shape, stddev=0.1))\n",
    "    bias = tf.Variable(tf.constant(0.1, shape=[conv_num_outputs]))\n",
    "    convolution = tf.nn.conv2d(x_tensor, weights, strides=[1, conv_strides[0], conv_strides[1], 1], \n",
    "                               padding='SAME')\n",
    "    activated = tf.nn.relu(convolution + bias)\n",
    "    pooled = tf.nn.max_pool(activated, ksize=[1, pool_ksize[0], pool_ksize[1], 1], \n",
    "                            strides=[1, pool_strides[0], pool_strides[1], 1], padding='SAME')\n",
    "    return pooled\n",
    "\n",
    "\n",
    "\"\"\"\n",
    "DON'T MODIFY ANYTHING IN THIS CELL THAT IS BELOW THIS LINE\n",
    "\"\"\"\n",
    "tests.test_con_pool(conv2d_maxpool)"
   ]
  },
  {
   "cell_type": "markdown",
   "metadata": {},
   "source": [
    "### Flatten Layer\n",
    "Implement the `flatten` function to change the dimension of `x_tensor` from a 4-D tensor to a 2-D tensor.  The output should be the shape (*Batch Size*, *Flattened Image Size*). Shortcut option: you can use classes from the [TensorFlow Layers](https://www.tensorflow.org/api_docs/python/tf/layers) or [TensorFlow Layers (contrib)](https://www.tensorflow.org/api_guides/python/contrib.layers) packages for this layer. For more of a challenge, only use other TensorFlow packages."
   ]
  },
  {
   "cell_type": "code",
   "execution_count": 139,
   "metadata": {},
   "outputs": [
    {
     "name": "stdout",
     "output_type": "stream",
     "text": [
      "Tests Passed\n"
     ]
    }
   ],
   "source": [
    "def flatten(x_tensor):\n",
    "    \"\"\"\n",
    "    Flatten x_tensor to (Batch Size, Flattened Image Size)\n",
    "    : x_tensor: A tensor of size (Batch Size, ...), where ... are the image dimensions.\n",
    "    : return: A tensor of size (Batch Size, Flattened Image Size).\n",
    "    \"\"\"\n",
    "    # TODO: Implement Function\n",
    "    x_shape = x_tensor.get_shape().as_list()\n",
    "    flatten_shape = x_shape[1]*x_shape[2]*x_shape[3]\n",
    "    batch_size = -1\n",
    "    if x_shape[0]:\n",
    "        batch_size = x_shape[0]\n",
    "    return (tf.reshape(x_tensor, [-1, flatten_shape]))\n",
    "\n",
    "\n",
    "\"\"\"\n",
    "DON'T MODIFY ANYTHING IN THIS CELL THAT IS BELOW THIS LINE\n",
    "\"\"\"\n",
    "tests.test_flatten(flatten)"
   ]
  },
  {
   "cell_type": "markdown",
   "metadata": {},
   "source": [
    "### Fully-Connected Layer\n",
    "Implement the `fully_conn` function to apply a fully connected layer to `x_tensor` with the shape (*Batch Size*, *num_outputs*). Shortcut option: you can use classes from the [TensorFlow Layers](https://www.tensorflow.org/api_docs/python/tf/layers) or [TensorFlow Layers (contrib)](https://www.tensorflow.org/api_guides/python/contrib.layers) packages for this layer. For more of a challenge, only use other TensorFlow packages."
   ]
  },
  {
   "cell_type": "code",
   "execution_count": 140,
   "metadata": {},
   "outputs": [
    {
     "name": "stdout",
     "output_type": "stream",
     "text": [
      "Tests Passed\n"
     ]
    }
   ],
   "source": [
    "def fully_conn(x_tensor, num_outputs):\n",
    "    \"\"\"\n",
    "    Apply a fully connected layer to x_tensor using weight and bias\n",
    "    : x_tensor: A 2-D tensor where the first dimension is batch size.\n",
    "    : num_outputs: The number of output that the new tensor should be.\n",
    "    : return: A 2-D tensor where the second dimension is num_outputs.\n",
    "    \"\"\"\n",
    "    # TODO: Implement Function\n",
    "    weights = tf.Variable(tf.truncated_normal([x_tensor.get_shape().as_list()[1], num_outputs], \n",
    "                                              stddev=0.1))\n",
    "    bias = tf.Variable(tf.constant(0.1, shape=[num_outputs]))\n",
    "    return tf.nn.relu(tf.matmul(x_tensor, weights) + bias)\n",
    "\n",
    "\n",
    "\n",
    "\"\"\"\n",
    "DON'T MODIFY ANYTHING IN THIS CELL THAT IS BELOW THIS LINE\n",
    "\"\"\"\n",
    "tests.test_fully_conn(fully_conn)"
   ]
  },
  {
   "cell_type": "markdown",
   "metadata": {},
   "source": [
    "### Output Layer\n",
    "Implement the `output` function to apply a fully connected layer to `x_tensor` with the shape (*Batch Size*, *num_outputs*). Shortcut option: you can use classes from the [TensorFlow Layers](https://www.tensorflow.org/api_docs/python/tf/layers) or [TensorFlow Layers (contrib)](https://www.tensorflow.org/api_guides/python/contrib.layers) packages for this layer. For more of a challenge, only use other TensorFlow packages.\n",
    "\n",
    "**Note:** Activation, softmax, or cross entropy should **not** be applied to this."
   ]
  },
  {
   "cell_type": "code",
   "execution_count": 141,
   "metadata": {},
   "outputs": [
    {
     "name": "stdout",
     "output_type": "stream",
     "text": [
      "Tests Passed\n"
     ]
    }
   ],
   "source": [
    "def output(x_tensor, num_outputs):\n",
    "    \"\"\"\n",
    "    Apply a output layer to x_tensor using weight and bias\n",
    "    : x_tensor: A 2-D tensor where the first dimension is batch size.\n",
    "    : num_outputs: The number of output that the new tensor should be.\n",
    "    : return: A 2-D tensor where the second dimension is num_outputs.\n",
    "    \"\"\"\n",
    "    # TODO: Implement Function\n",
    "    weights = tf.Variable(tf.truncated_normal([x_tensor.get_shape().as_list()[1], num_outputs], \n",
    "                                              stddev=0.1))\n",
    "    bias = tf.Variable(tf.constant(0.1, shape=[num_outputs]))\n",
    "    return tf.matmul(x_tensor, weights) + bias\n",
    "\n",
    "\n",
    "\"\"\"\n",
    "DON'T MODIFY ANYTHING IN THIS CELL THAT IS BELOW THIS LINE\n",
    "\"\"\"\n",
    "tests.test_output(output)"
   ]
  },
  {
   "cell_type": "markdown",
   "metadata": {},
   "source": [
    "### Create Convolutional Model\n",
    "Implement the function `conv_net` to create a convolutional neural network model. The function takes in a batch of images, `x`, and outputs logits.  Use the layers you created above to create this model:\n",
    "\n",
    "* Apply 1, 2, or 3 Convolution and Max Pool layers\n",
    "* Apply a Flatten Layer\n",
    "* Apply 1, 2, or 3 Fully Connected Layers\n",
    "* Apply an Output Layer\n",
    "* Return the output\n",
    "* Apply [TensorFlow's Dropout](https://www.tensorflow.org/api_docs/python/tf/nn/dropout) to one or more layers in the model using `keep_prob`. "
   ]
  },
  {
   "cell_type": "code",
   "execution_count": 279,
   "metadata": {},
   "outputs": [
    {
     "name": "stdout",
     "output_type": "stream",
     "text": [
      "Neural Network Built!\n"
     ]
    }
   ],
   "source": [
    "def conv_net(x, keep_prob):\n",
    "    \"\"\"\n",
    "    Create a convolutional neural network model\n",
    "    : x: Placeholder tensor that holds image data.\n",
    "    : keep_prob: Placeholder tensor that hold dropout keep probability.\n",
    "    : return: Tensor that represents logits\n",
    "    \"\"\"\n",
    "    # TODO: Apply 1, 2, or 3 Convolution and Max Pool layers\n",
    "    #    Play around with different number of outputs, kernel size and stride\n",
    "    # Function Definition from Above:\n",
    "    #    conv2d_maxpool(x_tensor, conv_num_outputs, conv_ksize, conv_strides, pool_ksize, pool_strides)\n",
    "    cov_1 = conv2d_maxpool(x, 16, (2, 2), (1, 1), (2, 2), (2, 2))\n",
    "    cov_2 = conv2d_maxpool(cov_1, 32, (2, 2), (1, 1), (2, 2), (2, 2))\n",
    "    cov_3 = conv2d_maxpool(cov_2, 64, (2, 2), (1, 1), (2, 2), (2, 2))\n",
    "    \n",
    "    # TODO: Apply a Flatten Layer\n",
    "    # Function Definition from Above:\n",
    "    #   flatten(x_tensor)\n",
    "    flatten_x = flatten(cov_3)\n",
    "\n",
    "    # TODO: Apply 1, 2, or 3 Fully Connected Layers\n",
    "    #    Play around with different number of outputs\n",
    "    # Function Definition from Above:\n",
    "    #   fully_conn(x_tensor, num_outputs)\n",
    "    fully_1 = fully_conn(flatten_x, 1024)\n",
    "    fully_1_drop = tf.nn.dropout(fully_1, keep_prob)\n",
    "\n",
    "    #fully_2 = fully_conn(fully_1, 200)\n",
    "    #fully_2_drop = tf.nn.dropout(fully_2, keep_prob)\n",
    "\n",
    "    #fully_3 = fully_conn(fully_2, 100)\n",
    "    #fully_3_drop = tf.nn.dropout(fully_3, keep_prob)\n",
    "    \n",
    "    # TODO: Apply an Output Layer\n",
    "    #    Set this to the number of classes\n",
    "    # Function Definition from Above:\n",
    "    #   output(x_tensor, num_outputs)\n",
    "    output_x = output(fully_1_drop, 10)\n",
    "    \n",
    "    # TODO: return output\n",
    "    return output_x\n",
    "\n",
    "\n",
    "\"\"\"\n",
    "DON'T MODIFY ANYTHING IN THIS CELL THAT IS BELOW THIS LINE\n",
    "\"\"\"\n",
    "\n",
    "##############################\n",
    "## Build the Neural Network ##\n",
    "##############################\n",
    "\n",
    "# Remove previous weights, bias, inputs, etc..\n",
    "tf.reset_default_graph()\n",
    "\n",
    "# Inputs\n",
    "x = neural_net_image_input((32, 32, 3))\n",
    "y = neural_net_label_input(10)\n",
    "keep_prob = neural_net_keep_prob_input()\n",
    "\n",
    "# Model\n",
    "logits = conv_net(x, keep_prob)\n",
    "\n",
    "# Name logits Tensor, so that is can be loaded from disk after training\n",
    "logits = tf.identity(logits, name='logits')\n",
    "\n",
    "# Loss and Optimizer\n",
    "cost = tf.reduce_mean(tf.nn.softmax_cross_entropy_with_logits(logits=logits, labels=y))\n",
    "optimizer = tf.train.AdamOptimizer().minimize(cost)\n",
    "\n",
    "# Accuracy\n",
    "correct_pred = tf.equal(tf.argmax(logits, 1), tf.argmax(y, 1))\n",
    "accuracy = tf.reduce_mean(tf.cast(correct_pred, tf.float32), name='accuracy')\n",
    "\n",
    "tests.test_conv_net(conv_net)"
   ]
  },
  {
   "cell_type": "markdown",
   "metadata": {},
   "source": [
    "## Train the Neural Network\n",
    "### Single Optimization\n",
    "Implement the function `train_neural_network` to do a single optimization.  The optimization should use `optimizer` to optimize in `session` with a `feed_dict` of the following:\n",
    "* `x` for image input\n",
    "* `y` for labels\n",
    "* `keep_prob` for keep probability for dropout\n",
    "\n",
    "This function will be called for each batch, so `tf.global_variables_initializer()` has already been called.\n",
    "\n",
    "Note: Nothing needs to be returned. This function is only optimizing the neural network."
   ]
  },
  {
   "cell_type": "code",
   "execution_count": 280,
   "metadata": {},
   "outputs": [
    {
     "name": "stdout",
     "output_type": "stream",
     "text": [
      "Tests Passed\n"
     ]
    }
   ],
   "source": [
    "def train_neural_network(session, optimizer, keep_probability, feature_batch, label_batch):\n",
    "    \"\"\"\n",
    "    Optimize the session on a batch of images and labels\n",
    "    : session: Current TensorFlow session\n",
    "    : optimizer: TensorFlow optimizer function\n",
    "    : keep_probability: keep probability\n",
    "    : feature_batch: Batch of Numpy image data\n",
    "    : label_batch: Batch of Numpy label data\n",
    "    \"\"\"\n",
    "    # TODO: Implement Function\n",
    "    session.run(optimizer, feed_dict={\n",
    "                x: feature_batch,\n",
    "                y: label_batch,\n",
    "                keep_prob: keep_probability})\n",
    "    pass\n",
    "\n",
    "\n",
    "\"\"\"\n",
    "DON'T MODIFY ANYTHING IN THIS CELL THAT IS BELOW THIS LINE\n",
    "\"\"\"\n",
    "tests.test_train_nn(train_neural_network)"
   ]
  },
  {
   "cell_type": "markdown",
   "metadata": {},
   "source": [
    "### Show Stats\n",
    "Implement the function `print_stats` to print loss and validation accuracy.  Use the global variables `valid_features` and `valid_labels` to calculate validation accuracy.  Use a keep probability of `1.0` to calculate the loss and validation accuracy."
   ]
  },
  {
   "cell_type": "code",
   "execution_count": 281,
   "metadata": {},
   "outputs": [],
   "source": [
    "def print_stats(session, feature_batch, label_batch, cost, accuracy):\n",
    "    \"\"\"\n",
    "    Print information about loss and validation accuracy\n",
    "    : session: Current TensorFlow session\n",
    "    : feature_batch: Batch of Numpy image data\n",
    "    : label_batch: Batch of Numpy label data\n",
    "    : cost: TensorFlow cost function\n",
    "    : accuracy: TensorFlow accuracy function\n",
    "    \"\"\"\n",
    "    # TODO: Implement Function\n",
    "    loss = session.run(cost, feed_dict={\n",
    "                x: feature_batch,\n",
    "                y: label_batch,\n",
    "                keep_prob: 1.0})\n",
    "    valid_acc = session.run(accuracy, feed_dict={\n",
    "                x: valid_features,\n",
    "                y: valid_labels,\n",
    "                keep_prob: 1.0})\n",
    "\n",
    "    print('Loss: {:>10.4f} Validation Accuracy: {:.6f}'.format(\n",
    "            loss,\n",
    "            valid_acc))\n",
    "    pass"
   ]
  },
  {
   "cell_type": "markdown",
   "metadata": {},
   "source": [
    "### Hyperparameters\n",
    "Tune the following parameters:\n",
    "* Set `epochs` to the number of iterations until the network stops learning or start overfitting\n",
    "* Set `batch_size` to the highest number that your machine has memory for.  Most people set them to common sizes of memory:\n",
    " * 64\n",
    " * 128\n",
    " * 256\n",
    " * ...\n",
    "* Set `keep_probability` to the probability of keeping a node using dropout"
   ]
  },
  {
   "cell_type": "code",
   "execution_count": 287,
   "metadata": {
    "collapsed": true
   },
   "outputs": [],
   "source": [
    "# TODO: Tune Parameters\n",
    "epochs = 50\n",
    "batch_size = 6144\n",
    "keep_probability = 0.75"
   ]
  },
  {
   "cell_type": "markdown",
   "metadata": {},
   "source": [
    "### Train on a Single CIFAR-10 Batch\n",
    "Instead of training the neural network on all the CIFAR-10 batches of data, let's use a single batch. This should save time while you iterate on the model to get a better accuracy.  Once the final validation accuracy is 50% or greater, run the model on all the data in the next section."
   ]
  },
  {
   "cell_type": "code",
   "execution_count": 288,
   "metadata": {},
   "outputs": [
    {
     "name": "stdout",
     "output_type": "stream",
     "text": [
      "Checking the Training on a Single Batch...\n",
      "Epoch  1, CIFAR-10 Batch 1:  Loss:     3.1105 Validation Accuracy: 0.091400\n",
      "Epoch  2, CIFAR-10 Batch 1:  Loss:     2.5503 Validation Accuracy: 0.134000\n",
      "Epoch  3, CIFAR-10 Batch 1:  Loss:     2.3362 Validation Accuracy: 0.112000\n",
      "Epoch  4, CIFAR-10 Batch 1:  Loss:     2.4163 Validation Accuracy: 0.096000\n",
      "Epoch  5, CIFAR-10 Batch 1:  Loss:     2.2862 Validation Accuracy: 0.119200\n",
      "Epoch  6, CIFAR-10 Batch 1:  Loss:     2.2282 Validation Accuracy: 0.178400\n",
      "Epoch  7, CIFAR-10 Batch 1:  Loss:     2.2350 Validation Accuracy: 0.235200\n",
      "Epoch  8, CIFAR-10 Batch 1:  Loss:     2.2239 Validation Accuracy: 0.233400\n",
      "Epoch  9, CIFAR-10 Batch 1:  Loss:     2.1657 Validation Accuracy: 0.244000\n",
      "Epoch 10, CIFAR-10 Batch 1:  Loss:     2.1256 Validation Accuracy: 0.248400\n",
      "Epoch 11, CIFAR-10 Batch 1:  Loss:     2.1141 Validation Accuracy: 0.235400\n",
      "Epoch 12, CIFAR-10 Batch 1:  Loss:     2.0901 Validation Accuracy: 0.249200\n",
      "Epoch 13, CIFAR-10 Batch 1:  Loss:     2.0503 Validation Accuracy: 0.279400\n",
      "Epoch 14, CIFAR-10 Batch 1:  Loss:     2.0265 Validation Accuracy: 0.276400\n",
      "Epoch 15, CIFAR-10 Batch 1:  Loss:     2.0049 Validation Accuracy: 0.281600\n",
      "Epoch 16, CIFAR-10 Batch 1:  Loss:     1.9775 Validation Accuracy: 0.293000\n",
      "Epoch 17, CIFAR-10 Batch 1:  Loss:     1.9545 Validation Accuracy: 0.309800\n",
      "Epoch 18, CIFAR-10 Batch 1:  Loss:     1.9319 Validation Accuracy: 0.312200\n",
      "Epoch 19, CIFAR-10 Batch 1:  Loss:     1.9037 Validation Accuracy: 0.316600\n",
      "Epoch 20, CIFAR-10 Batch 1:  Loss:     1.8781 Validation Accuracy: 0.325600\n",
      "Epoch 21, CIFAR-10 Batch 1:  Loss:     1.8549 Validation Accuracy: 0.338400\n",
      "Epoch 22, CIFAR-10 Batch 1:  Loss:     1.8313 Validation Accuracy: 0.349400\n",
      "Epoch 23, CIFAR-10 Batch 1:  Loss:     1.8081 Validation Accuracy: 0.353000\n",
      "Epoch 24, CIFAR-10 Batch 1:  Loss:     1.7842 Validation Accuracy: 0.358600\n",
      "Epoch 25, CIFAR-10 Batch 1:  Loss:     1.7613 Validation Accuracy: 0.366600\n",
      "Epoch 26, CIFAR-10 Batch 1:  Loss:     1.7385 Validation Accuracy: 0.377600\n",
      "Epoch 27, CIFAR-10 Batch 1:  Loss:     1.7164 Validation Accuracy: 0.383800\n",
      "Epoch 28, CIFAR-10 Batch 1:  Loss:     1.6936 Validation Accuracy: 0.389200\n",
      "Epoch 29, CIFAR-10 Batch 1:  Loss:     1.6698 Validation Accuracy: 0.398400\n",
      "Epoch 30, CIFAR-10 Batch 1:  Loss:     1.6480 Validation Accuracy: 0.403800\n",
      "Epoch 31, CIFAR-10 Batch 1:  Loss:     1.6269 Validation Accuracy: 0.411600\n",
      "Epoch 32, CIFAR-10 Batch 1:  Loss:     1.6046 Validation Accuracy: 0.416600\n",
      "Epoch 33, CIFAR-10 Batch 1:  Loss:     1.5845 Validation Accuracy: 0.421400\n",
      "Epoch 34, CIFAR-10 Batch 1:  Loss:     1.5660 Validation Accuracy: 0.428800\n",
      "Epoch 35, CIFAR-10 Batch 1:  Loss:     1.5454 Validation Accuracy: 0.433000\n",
      "Epoch 36, CIFAR-10 Batch 1:  Loss:     1.5272 Validation Accuracy: 0.436200\n",
      "Epoch 37, CIFAR-10 Batch 1:  Loss:     1.5085 Validation Accuracy: 0.440800\n",
      "Epoch 38, CIFAR-10 Batch 1:  Loss:     1.4949 Validation Accuracy: 0.442800\n",
      "Epoch 39, CIFAR-10 Batch 1:  Loss:     1.4755 Validation Accuracy: 0.450800\n",
      "Epoch 40, CIFAR-10 Batch 1:  Loss:     1.4609 Validation Accuracy: 0.456000\n",
      "Epoch 41, CIFAR-10 Batch 1:  Loss:     1.4429 Validation Accuracy: 0.458600\n",
      "Epoch 42, CIFAR-10 Batch 1:  Loss:     1.4305 Validation Accuracy: 0.461200\n",
      "Epoch 43, CIFAR-10 Batch 1:  Loss:     1.4139 Validation Accuracy: 0.465000\n",
      "Epoch 44, CIFAR-10 Batch 1:  Loss:     1.3991 Validation Accuracy: 0.471000\n",
      "Epoch 45, CIFAR-10 Batch 1:  Loss:     1.3879 Validation Accuracy: 0.472000\n",
      "Epoch 46, CIFAR-10 Batch 1:  Loss:     1.3715 Validation Accuracy: 0.476600\n",
      "Epoch 47, CIFAR-10 Batch 1:  Loss:     1.3596 Validation Accuracy: 0.474800\n",
      "Epoch 48, CIFAR-10 Batch 1:  Loss:     1.3472 Validation Accuracy: 0.485600\n",
      "Epoch 49, CIFAR-10 Batch 1:  Loss:     1.3331 Validation Accuracy: 0.489000\n",
      "Epoch 50, CIFAR-10 Batch 1:  Loss:     1.3241 Validation Accuracy: 0.489600\n"
     ]
    }
   ],
   "source": [
    "\"\"\"\n",
    "DON'T MODIFY ANYTHING IN THIS CELL\n",
    "\"\"\"\n",
    "print('Checking the Training on a Single Batch...')\n",
    "with tf.Session() as sess:\n",
    "    # Initializing the variables\n",
    "    sess.run(tf.global_variables_initializer())\n",
    "    \n",
    "    # Training cycle\n",
    "    for epoch in range(epochs):\n",
    "        batch_i = 1\n",
    "        for batch_features, batch_labels in helper.load_preprocess_training_batch(batch_i, batch_size):\n",
    "            train_neural_network(sess, optimizer, keep_probability, batch_features, batch_labels)\n",
    "        print('Epoch {:>2}, CIFAR-10 Batch {}:  '.format(epoch + 1, batch_i), end='')\n",
    "        print_stats(sess, batch_features, batch_labels, cost, accuracy)"
   ]
  },
  {
   "cell_type": "markdown",
   "metadata": {},
   "source": [
    "### Fully Train the Model\n",
    "Now that you got a good accuracy with a single CIFAR-10 batch, try it with all five batches."
   ]
  },
  {
   "cell_type": "code",
   "execution_count": 289,
   "metadata": {},
   "outputs": [
    {
     "name": "stdout",
     "output_type": "stream",
     "text": [
      "Training...\n",
      "Epoch  1, CIFAR-10 Batch 1:  Loss:     3.1605 Validation Accuracy: 0.130400\n",
      "Epoch  1, CIFAR-10 Batch 2:  Loss:     3.0322 Validation Accuracy: 0.142800\n",
      "Epoch  1, CIFAR-10 Batch 3:  Loss:     2.8762 Validation Accuracy: 0.096800\n",
      "Epoch  1, CIFAR-10 Batch 4:  Loss:     2.5509 Validation Accuracy: 0.194200\n",
      "Epoch  1, CIFAR-10 Batch 5:  Loss:     2.2962 Validation Accuracy: 0.203200\n",
      "Epoch  2, CIFAR-10 Batch 1:  Loss:     2.2188 Validation Accuracy: 0.183400\n",
      "Epoch  2, CIFAR-10 Batch 2:  Loss:     2.3087 Validation Accuracy: 0.107000\n",
      "Epoch  2, CIFAR-10 Batch 3:  Loss:     2.1884 Validation Accuracy: 0.144000\n",
      "Epoch  2, CIFAR-10 Batch 4:  Loss:     2.1436 Validation Accuracy: 0.185800\n",
      "Epoch  2, CIFAR-10 Batch 5:  Loss:     2.1160 Validation Accuracy: 0.263000\n",
      "Epoch  3, CIFAR-10 Batch 1:  Loss:     2.1243 Validation Accuracy: 0.265400\n",
      "Epoch  3, CIFAR-10 Batch 2:  Loss:     2.0861 Validation Accuracy: 0.271400\n",
      "Epoch  3, CIFAR-10 Batch 3:  Loss:     2.0482 Validation Accuracy: 0.295000\n",
      "Epoch  3, CIFAR-10 Batch 4:  Loss:     2.0181 Validation Accuracy: 0.311400\n",
      "Epoch  3, CIFAR-10 Batch 5:  Loss:     2.0001 Validation Accuracy: 0.295800\n",
      "Epoch  4, CIFAR-10 Batch 1:  Loss:     1.9823 Validation Accuracy: 0.311200\n",
      "Epoch  4, CIFAR-10 Batch 2:  Loss:     1.9773 Validation Accuracy: 0.322600\n",
      "Epoch  4, CIFAR-10 Batch 3:  Loss:     1.9490 Validation Accuracy: 0.318400\n",
      "Epoch  4, CIFAR-10 Batch 4:  Loss:     1.9223 Validation Accuracy: 0.317000\n",
      "Epoch  4, CIFAR-10 Batch 5:  Loss:     1.8952 Validation Accuracy: 0.331400\n",
      "Epoch  5, CIFAR-10 Batch 1:  Loss:     1.8802 Validation Accuracy: 0.345400\n",
      "Epoch  5, CIFAR-10 Batch 2:  Loss:     1.8882 Validation Accuracy: 0.359200\n",
      "Epoch  5, CIFAR-10 Batch 3:  Loss:     1.8477 Validation Accuracy: 0.350800\n",
      "Epoch  5, CIFAR-10 Batch 4:  Loss:     1.8279 Validation Accuracy: 0.345000\n",
      "Epoch  5, CIFAR-10 Batch 5:  Loss:     1.8042 Validation Accuracy: 0.368800\n",
      "Epoch  6, CIFAR-10 Batch 1:  Loss:     1.7842 Validation Accuracy: 0.373000\n",
      "Epoch  6, CIFAR-10 Batch 2:  Loss:     1.7877 Validation Accuracy: 0.383200\n",
      "Epoch  6, CIFAR-10 Batch 3:  Loss:     1.7532 Validation Accuracy: 0.372600\n",
      "Epoch  6, CIFAR-10 Batch 4:  Loss:     1.7384 Validation Accuracy: 0.386200\n",
      "Epoch  6, CIFAR-10 Batch 5:  Loss:     1.7239 Validation Accuracy: 0.394600\n",
      "Epoch  7, CIFAR-10 Batch 1:  Loss:     1.6993 Validation Accuracy: 0.400600\n",
      "Epoch  7, CIFAR-10 Batch 2:  Loss:     1.7014 Validation Accuracy: 0.407000\n",
      "Epoch  7, CIFAR-10 Batch 3:  Loss:     1.6711 Validation Accuracy: 0.399000\n",
      "Epoch  7, CIFAR-10 Batch 4:  Loss:     1.6583 Validation Accuracy: 0.416800\n",
      "Epoch  7, CIFAR-10 Batch 5:  Loss:     1.6489 Validation Accuracy: 0.424000\n",
      "Epoch  8, CIFAR-10 Batch 1:  Loss:     1.6215 Validation Accuracy: 0.421200\n",
      "Epoch  8, CIFAR-10 Batch 2:  Loss:     1.6242 Validation Accuracy: 0.431200\n",
      "Epoch  8, CIFAR-10 Batch 3:  Loss:     1.5977 Validation Accuracy: 0.426200\n",
      "Epoch  8, CIFAR-10 Batch 4:  Loss:     1.5914 Validation Accuracy: 0.440600\n",
      "Epoch  8, CIFAR-10 Batch 5:  Loss:     1.5926 Validation Accuracy: 0.440800\n",
      "Epoch  9, CIFAR-10 Batch 1:  Loss:     1.5722 Validation Accuracy: 0.436200\n",
      "Epoch  9, CIFAR-10 Batch 2:  Loss:     1.5719 Validation Accuracy: 0.445400\n",
      "Epoch  9, CIFAR-10 Batch 3:  Loss:     1.5439 Validation Accuracy: 0.443800\n",
      "Epoch  9, CIFAR-10 Batch 4:  Loss:     1.5440 Validation Accuracy: 0.451400\n",
      "Epoch  9, CIFAR-10 Batch 5:  Loss:     1.5386 Validation Accuracy: 0.456800\n",
      "Epoch 10, CIFAR-10 Batch 1:  Loss:     1.5189 Validation Accuracy: 0.460600\n",
      "Epoch 10, CIFAR-10 Batch 2:  Loss:     1.5244 Validation Accuracy: 0.461000\n",
      "Epoch 10, CIFAR-10 Batch 3:  Loss:     1.5083 Validation Accuracy: 0.454800\n",
      "Epoch 10, CIFAR-10 Batch 4:  Loss:     1.5186 Validation Accuracy: 0.455600\n",
      "Epoch 10, CIFAR-10 Batch 5:  Loss:     1.5061 Validation Accuracy: 0.464000\n",
      "Epoch 11, CIFAR-10 Batch 1:  Loss:     1.4838 Validation Accuracy: 0.465400\n",
      "Epoch 11, CIFAR-10 Batch 2:  Loss:     1.4849 Validation Accuracy: 0.469600\n",
      "Epoch 11, CIFAR-10 Batch 3:  Loss:     1.4604 Validation Accuracy: 0.470400\n",
      "Epoch 11, CIFAR-10 Batch 4:  Loss:     1.4697 Validation Accuracy: 0.475200\n",
      "Epoch 11, CIFAR-10 Batch 5:  Loss:     1.4585 Validation Accuracy: 0.478800\n",
      "Epoch 12, CIFAR-10 Batch 1:  Loss:     1.4384 Validation Accuracy: 0.481400\n",
      "Epoch 12, CIFAR-10 Batch 2:  Loss:     1.4427 Validation Accuracy: 0.481200\n",
      "Epoch 12, CIFAR-10 Batch 3:  Loss:     1.4232 Validation Accuracy: 0.483400\n",
      "Epoch 12, CIFAR-10 Batch 4:  Loss:     1.4378 Validation Accuracy: 0.484200\n",
      "Epoch 12, CIFAR-10 Batch 5:  Loss:     1.4262 Validation Accuracy: 0.496600\n",
      "Epoch 13, CIFAR-10 Batch 1:  Loss:     1.4065 Validation Accuracy: 0.488800\n",
      "Epoch 13, CIFAR-10 Batch 2:  Loss:     1.4091 Validation Accuracy: 0.492800\n",
      "Epoch 13, CIFAR-10 Batch 3:  Loss:     1.3894 Validation Accuracy: 0.497600\n",
      "Epoch 13, CIFAR-10 Batch 4:  Loss:     1.4047 Validation Accuracy: 0.502200\n",
      "Epoch 13, CIFAR-10 Batch 5:  Loss:     1.3901 Validation Accuracy: 0.500800\n",
      "Epoch 14, CIFAR-10 Batch 1:  Loss:     1.3917 Validation Accuracy: 0.495400\n",
      "Epoch 14, CIFAR-10 Batch 2:  Loss:     1.3714 Validation Accuracy: 0.504800\n",
      "Epoch 14, CIFAR-10 Batch 3:  Loss:     1.3737 Validation Accuracy: 0.498600\n",
      "Epoch 14, CIFAR-10 Batch 4:  Loss:     1.3781 Validation Accuracy: 0.506000\n",
      "Epoch 14, CIFAR-10 Batch 5:  Loss:     1.3761 Validation Accuracy: 0.506600\n",
      "Epoch 15, CIFAR-10 Batch 1:  Loss:     1.3534 Validation Accuracy: 0.505800\n",
      "Epoch 15, CIFAR-10 Batch 2:  Loss:     1.3456 Validation Accuracy: 0.510000\n",
      "Epoch 15, CIFAR-10 Batch 3:  Loss:     1.3454 Validation Accuracy: 0.512200\n",
      "Epoch 15, CIFAR-10 Batch 4:  Loss:     1.3577 Validation Accuracy: 0.516400\n",
      "Epoch 15, CIFAR-10 Batch 5:  Loss:     1.3348 Validation Accuracy: 0.521000\n",
      "Epoch 16, CIFAR-10 Batch 1:  Loss:     1.3240 Validation Accuracy: 0.518200\n",
      "Epoch 16, CIFAR-10 Batch 2:  Loss:     1.3263 Validation Accuracy: 0.511800\n",
      "Epoch 16, CIFAR-10 Batch 3:  Loss:     1.3137 Validation Accuracy: 0.519800\n",
      "Epoch 16, CIFAR-10 Batch 4:  Loss:     1.3329 Validation Accuracy: 0.526000\n",
      "Epoch 16, CIFAR-10 Batch 5:  Loss:     1.3158 Validation Accuracy: 0.525800\n",
      "Epoch 17, CIFAR-10 Batch 1:  Loss:     1.2979 Validation Accuracy: 0.526200\n",
      "Epoch 17, CIFAR-10 Batch 2:  Loss:     1.2940 Validation Accuracy: 0.526200\n",
      "Epoch 17, CIFAR-10 Batch 3:  Loss:     1.2890 Validation Accuracy: 0.528000\n",
      "Epoch 17, CIFAR-10 Batch 4:  Loss:     1.3088 Validation Accuracy: 0.534800\n",
      "Epoch 17, CIFAR-10 Batch 5:  Loss:     1.2966 Validation Accuracy: 0.531200\n",
      "Epoch 18, CIFAR-10 Batch 1:  Loss:     1.2816 Validation Accuracy: 0.532400\n",
      "Epoch 18, CIFAR-10 Batch 2:  Loss:     1.2709 Validation Accuracy: 0.533000\n",
      "Epoch 18, CIFAR-10 Batch 3:  Loss:     1.2686 Validation Accuracy: 0.536400\n",
      "Epoch 18, CIFAR-10 Batch 4:  Loss:     1.2893 Validation Accuracy: 0.538200\n",
      "Epoch 18, CIFAR-10 Batch 5:  Loss:     1.2855 Validation Accuracy: 0.535800\n",
      "Epoch 19, CIFAR-10 Batch 1:  Loss:     1.2594 Validation Accuracy: 0.537200\n",
      "Epoch 19, CIFAR-10 Batch 2:  Loss:     1.2630 Validation Accuracy: 0.533200\n",
      "Epoch 19, CIFAR-10 Batch 3:  Loss:     1.2537 Validation Accuracy: 0.542200\n",
      "Epoch 19, CIFAR-10 Batch 4:  Loss:     1.2771 Validation Accuracy: 0.538800\n",
      "Epoch 19, CIFAR-10 Batch 5:  Loss:     1.2511 Validation Accuracy: 0.545800\n",
      "Epoch 20, CIFAR-10 Batch 1:  Loss:     1.2382 Validation Accuracy: 0.543800\n",
      "Epoch 20, CIFAR-10 Batch 2:  Loss:     1.2348 Validation Accuracy: 0.541400\n",
      "Epoch 20, CIFAR-10 Batch 3:  Loss:     1.2418 Validation Accuracy: 0.543000\n",
      "Epoch 20, CIFAR-10 Batch 4:  Loss:     1.2556 Validation Accuracy: 0.543400\n",
      "Epoch 20, CIFAR-10 Batch 5:  Loss:     1.2309 Validation Accuracy: 0.551000\n",
      "Epoch 21, CIFAR-10 Batch 1:  Loss:     1.2240 Validation Accuracy: 0.550000\n",
      "Epoch 21, CIFAR-10 Batch 2:  Loss:     1.2181 Validation Accuracy: 0.544200\n",
      "Epoch 21, CIFAR-10 Batch 3:  Loss:     1.2181 Validation Accuracy: 0.553200\n",
      "Epoch 21, CIFAR-10 Batch 4:  Loss:     1.2385 Validation Accuracy: 0.552200\n",
      "Epoch 21, CIFAR-10 Batch 5:  Loss:     1.2296 Validation Accuracy: 0.550200\n",
      "Epoch 22, CIFAR-10 Batch 1:  Loss:     1.2115 Validation Accuracy: 0.555600\n",
      "Epoch 22, CIFAR-10 Batch 2:  Loss:     1.2080 Validation Accuracy: 0.552000\n"
     ]
    },
    {
     "name": "stdout",
     "output_type": "stream",
     "text": [
      "Epoch 22, CIFAR-10 Batch 3:  Loss:     1.2020 Validation Accuracy: 0.554000\n",
      "Epoch 22, CIFAR-10 Batch 4:  Loss:     1.2255 Validation Accuracy: 0.555800\n",
      "Epoch 22, CIFAR-10 Batch 5:  Loss:     1.2129 Validation Accuracy: 0.548600\n",
      "Epoch 23, CIFAR-10 Batch 1:  Loss:     1.1925 Validation Accuracy: 0.559800\n",
      "Epoch 23, CIFAR-10 Batch 2:  Loss:     1.1972 Validation Accuracy: 0.556000\n",
      "Epoch 23, CIFAR-10 Batch 3:  Loss:     1.1986 Validation Accuracy: 0.557200\n",
      "Epoch 23, CIFAR-10 Batch 4:  Loss:     1.2083 Validation Accuracy: 0.559200\n",
      "Epoch 23, CIFAR-10 Batch 5:  Loss:     1.1841 Validation Accuracy: 0.562400\n",
      "Epoch 24, CIFAR-10 Batch 1:  Loss:     1.1777 Validation Accuracy: 0.558800\n",
      "Epoch 24, CIFAR-10 Batch 2:  Loss:     1.1731 Validation Accuracy: 0.559800\n",
      "Epoch 24, CIFAR-10 Batch 3:  Loss:     1.1755 Validation Accuracy: 0.562000\n",
      "Epoch 24, CIFAR-10 Batch 4:  Loss:     1.1949 Validation Accuracy: 0.563400\n",
      "Epoch 24, CIFAR-10 Batch 5:  Loss:     1.1684 Validation Accuracy: 0.566200\n",
      "Epoch 25, CIFAR-10 Batch 1:  Loss:     1.1682 Validation Accuracy: 0.564400\n",
      "Epoch 25, CIFAR-10 Batch 2:  Loss:     1.1577 Validation Accuracy: 0.562400\n",
      "Epoch 25, CIFAR-10 Batch 3:  Loss:     1.1622 Validation Accuracy: 0.562600\n",
      "Epoch 25, CIFAR-10 Batch 4:  Loss:     1.1833 Validation Accuracy: 0.568000\n",
      "Epoch 25, CIFAR-10 Batch 5:  Loss:     1.1617 Validation Accuracy: 0.565800\n",
      "Epoch 26, CIFAR-10 Batch 1:  Loss:     1.1565 Validation Accuracy: 0.568200\n",
      "Epoch 26, CIFAR-10 Batch 2:  Loss:     1.1498 Validation Accuracy: 0.571200\n",
      "Epoch 26, CIFAR-10 Batch 3:  Loss:     1.1475 Validation Accuracy: 0.570200\n",
      "Epoch 26, CIFAR-10 Batch 4:  Loss:     1.1669 Validation Accuracy: 0.572400\n",
      "Epoch 26, CIFAR-10 Batch 5:  Loss:     1.1499 Validation Accuracy: 0.572800\n",
      "Epoch 27, CIFAR-10 Batch 1:  Loss:     1.1450 Validation Accuracy: 0.568000\n",
      "Epoch 27, CIFAR-10 Batch 2:  Loss:     1.1328 Validation Accuracy: 0.571800\n",
      "Epoch 27, CIFAR-10 Batch 3:  Loss:     1.1316 Validation Accuracy: 0.567600\n",
      "Epoch 27, CIFAR-10 Batch 4:  Loss:     1.1580 Validation Accuracy: 0.573400\n",
      "Epoch 27, CIFAR-10 Batch 5:  Loss:     1.1374 Validation Accuracy: 0.575600\n",
      "Epoch 28, CIFAR-10 Batch 1:  Loss:     1.1340 Validation Accuracy: 0.570600\n",
      "Epoch 28, CIFAR-10 Batch 2:  Loss:     1.1205 Validation Accuracy: 0.574200\n",
      "Epoch 28, CIFAR-10 Batch 3:  Loss:     1.1239 Validation Accuracy: 0.571800\n",
      "Epoch 28, CIFAR-10 Batch 4:  Loss:     1.1459 Validation Accuracy: 0.577200\n",
      "Epoch 28, CIFAR-10 Batch 5:  Loss:     1.1259 Validation Accuracy: 0.577800\n",
      "Epoch 29, CIFAR-10 Batch 1:  Loss:     1.1240 Validation Accuracy: 0.577600\n",
      "Epoch 29, CIFAR-10 Batch 2:  Loss:     1.1079 Validation Accuracy: 0.575800\n",
      "Epoch 29, CIFAR-10 Batch 3:  Loss:     1.1064 Validation Accuracy: 0.583600\n",
      "Epoch 29, CIFAR-10 Batch 4:  Loss:     1.1319 Validation Accuracy: 0.582000\n",
      "Epoch 29, CIFAR-10 Batch 5:  Loss:     1.1137 Validation Accuracy: 0.583600\n",
      "Epoch 30, CIFAR-10 Batch 1:  Loss:     1.1027 Validation Accuracy: 0.580800\n",
      "Epoch 30, CIFAR-10 Batch 2:  Loss:     1.0900 Validation Accuracy: 0.584000\n",
      "Epoch 30, CIFAR-10 Batch 3:  Loss:     1.1023 Validation Accuracy: 0.582000\n",
      "Epoch 30, CIFAR-10 Batch 4:  Loss:     1.1243 Validation Accuracy: 0.580000\n",
      "Epoch 30, CIFAR-10 Batch 5:  Loss:     1.0979 Validation Accuracy: 0.585800\n",
      "Epoch 31, CIFAR-10 Batch 1:  Loss:     1.0919 Validation Accuracy: 0.586600\n",
      "Epoch 31, CIFAR-10 Batch 2:  Loss:     1.0797 Validation Accuracy: 0.587400\n",
      "Epoch 31, CIFAR-10 Batch 3:  Loss:     1.0884 Validation Accuracy: 0.584600\n",
      "Epoch 31, CIFAR-10 Batch 4:  Loss:     1.1127 Validation Accuracy: 0.589200\n",
      "Epoch 31, CIFAR-10 Batch 5:  Loss:     1.0909 Validation Accuracy: 0.587600\n",
      "Epoch 32, CIFAR-10 Batch 1:  Loss:     1.0838 Validation Accuracy: 0.588000\n",
      "Epoch 32, CIFAR-10 Batch 2:  Loss:     1.0679 Validation Accuracy: 0.589800\n",
      "Epoch 32, CIFAR-10 Batch 3:  Loss:     1.0792 Validation Accuracy: 0.589600\n",
      "Epoch 32, CIFAR-10 Batch 4:  Loss:     1.1071 Validation Accuracy: 0.588800\n",
      "Epoch 32, CIFAR-10 Batch 5:  Loss:     1.0827 Validation Accuracy: 0.587200\n",
      "Epoch 33, CIFAR-10 Batch 1:  Loss:     1.0679 Validation Accuracy: 0.593800\n",
      "Epoch 33, CIFAR-10 Batch 2:  Loss:     1.0543 Validation Accuracy: 0.595000\n",
      "Epoch 33, CIFAR-10 Batch 3:  Loss:     1.0676 Validation Accuracy: 0.588400\n",
      "Epoch 33, CIFAR-10 Batch 4:  Loss:     1.0971 Validation Accuracy: 0.591800\n",
      "Epoch 33, CIFAR-10 Batch 5:  Loss:     1.0705 Validation Accuracy: 0.592200\n",
      "Epoch 34, CIFAR-10 Batch 1:  Loss:     1.0624 Validation Accuracy: 0.593000\n",
      "Epoch 34, CIFAR-10 Batch 2:  Loss:     1.0484 Validation Accuracy: 0.598000\n",
      "Epoch 34, CIFAR-10 Batch 3:  Loss:     1.0618 Validation Accuracy: 0.590600\n",
      "Epoch 34, CIFAR-10 Batch 4:  Loss:     1.0855 Validation Accuracy: 0.596600\n",
      "Epoch 34, CIFAR-10 Batch 5:  Loss:     1.0570 Validation Accuracy: 0.601600\n",
      "Epoch 35, CIFAR-10 Batch 1:  Loss:     1.0451 Validation Accuracy: 0.601200\n",
      "Epoch 35, CIFAR-10 Batch 2:  Loss:     1.0397 Validation Accuracy: 0.598200\n",
      "Epoch 35, CIFAR-10 Batch 3:  Loss:     1.0674 Validation Accuracy: 0.585800\n",
      "Epoch 35, CIFAR-10 Batch 4:  Loss:     1.0752 Validation Accuracy: 0.597400\n",
      "Epoch 35, CIFAR-10 Batch 5:  Loss:     1.0492 Validation Accuracy: 0.602200\n",
      "Epoch 36, CIFAR-10 Batch 1:  Loss:     1.0475 Validation Accuracy: 0.596800\n",
      "Epoch 36, CIFAR-10 Batch 2:  Loss:     1.0401 Validation Accuracy: 0.597000\n",
      "Epoch 36, CIFAR-10 Batch 3:  Loss:     1.0477 Validation Accuracy: 0.597800\n",
      "Epoch 36, CIFAR-10 Batch 4:  Loss:     1.0669 Validation Accuracy: 0.602000\n",
      "Epoch 36, CIFAR-10 Batch 5:  Loss:     1.0349 Validation Accuracy: 0.609200\n",
      "Epoch 37, CIFAR-10 Batch 1:  Loss:     1.0432 Validation Accuracy: 0.598800\n",
      "Epoch 37, CIFAR-10 Batch 2:  Loss:     1.0268 Validation Accuracy: 0.604000\n",
      "Epoch 37, CIFAR-10 Batch 3:  Loss:     1.0232 Validation Accuracy: 0.606400\n",
      "Epoch 37, CIFAR-10 Batch 4:  Loss:     1.0472 Validation Accuracy: 0.604600\n",
      "Epoch 37, CIFAR-10 Batch 5:  Loss:     1.0227 Validation Accuracy: 0.612800\n",
      "Epoch 38, CIFAR-10 Batch 1:  Loss:     1.0203 Validation Accuracy: 0.604800\n",
      "Epoch 38, CIFAR-10 Batch 2:  Loss:     1.0064 Validation Accuracy: 0.606800\n",
      "Epoch 38, CIFAR-10 Batch 3:  Loss:     1.0215 Validation Accuracy: 0.601800\n",
      "Epoch 38, CIFAR-10 Batch 4:  Loss:     1.0375 Validation Accuracy: 0.607800\n",
      "Epoch 38, CIFAR-10 Batch 5:  Loss:     1.0182 Validation Accuracy: 0.611800\n",
      "Epoch 39, CIFAR-10 Batch 1:  Loss:     1.0103 Validation Accuracy: 0.610200\n",
      "Epoch 39, CIFAR-10 Batch 2:  Loss:     0.9979 Validation Accuracy: 0.610000\n",
      "Epoch 39, CIFAR-10 Batch 3:  Loss:     1.0020 Validation Accuracy: 0.606000\n",
      "Epoch 39, CIFAR-10 Batch 4:  Loss:     1.0350 Validation Accuracy: 0.609800\n",
      "Epoch 39, CIFAR-10 Batch 5:  Loss:     1.0102 Validation Accuracy: 0.613600\n",
      "Epoch 40, CIFAR-10 Batch 1:  Loss:     1.0000 Validation Accuracy: 0.608400\n",
      "Epoch 40, CIFAR-10 Batch 2:  Loss:     0.9905 Validation Accuracy: 0.615400\n",
      "Epoch 40, CIFAR-10 Batch 3:  Loss:     1.0031 Validation Accuracy: 0.606000\n",
      "Epoch 40, CIFAR-10 Batch 4:  Loss:     1.0262 Validation Accuracy: 0.613800\n",
      "Epoch 40, CIFAR-10 Batch 5:  Loss:     0.9987 Validation Accuracy: 0.615800\n",
      "Epoch 41, CIFAR-10 Batch 1:  Loss:     0.9917 Validation Accuracy: 0.611800\n",
      "Epoch 41, CIFAR-10 Batch 2:  Loss:     0.9844 Validation Accuracy: 0.610800\n",
      "Epoch 41, CIFAR-10 Batch 3:  Loss:     0.9955 Validation Accuracy: 0.603400\n",
      "Epoch 41, CIFAR-10 Batch 4:  Loss:     1.0192 Validation Accuracy: 0.610200\n",
      "Epoch 41, CIFAR-10 Batch 5:  Loss:     1.0002 Validation Accuracy: 0.611200\n",
      "Epoch 42, CIFAR-10 Batch 1:  Loss:     1.0023 Validation Accuracy: 0.606200\n",
      "Epoch 42, CIFAR-10 Batch 2:  Loss:     0.9797 Validation Accuracy: 0.616200\n",
      "Epoch 42, CIFAR-10 Batch 3:  Loss:     0.9942 Validation Accuracy: 0.608600\n",
      "Epoch 42, CIFAR-10 Batch 4:  Loss:     1.0138 Validation Accuracy: 0.615400\n",
      "Epoch 42, CIFAR-10 Batch 5:  Loss:     0.9837 Validation Accuracy: 0.617600\n",
      "Epoch 43, CIFAR-10 Batch 1:  Loss:     0.9759 Validation Accuracy: 0.616200\n",
      "Epoch 43, CIFAR-10 Batch 2:  Loss:     0.9668 Validation Accuracy: 0.612600\n",
      "Epoch 43, CIFAR-10 Batch 3:  Loss:     0.9747 Validation Accuracy: 0.617400\n",
      "Epoch 43, CIFAR-10 Batch 4:  Loss:     0.9967 Validation Accuracy: 0.618800\n"
     ]
    },
    {
     "name": "stdout",
     "output_type": "stream",
     "text": [
      "Epoch 43, CIFAR-10 Batch 5:  Loss:     0.9677 Validation Accuracy: 0.619600\n",
      "Epoch 44, CIFAR-10 Batch 1:  Loss:     0.9683 Validation Accuracy: 0.619400\n",
      "Epoch 44, CIFAR-10 Batch 2:  Loss:     0.9543 Validation Accuracy: 0.620600\n",
      "Epoch 44, CIFAR-10 Batch 3:  Loss:     0.9569 Validation Accuracy: 0.618600\n",
      "Epoch 44, CIFAR-10 Batch 4:  Loss:     0.9843 Validation Accuracy: 0.621800\n",
      "Epoch 44, CIFAR-10 Batch 5:  Loss:     0.9653 Validation Accuracy: 0.620000\n",
      "Epoch 45, CIFAR-10 Batch 1:  Loss:     0.9554 Validation Accuracy: 0.619200\n",
      "Epoch 45, CIFAR-10 Batch 2:  Loss:     0.9427 Validation Accuracy: 0.623400\n",
      "Epoch 45, CIFAR-10 Batch 3:  Loss:     0.9497 Validation Accuracy: 0.622200\n",
      "Epoch 45, CIFAR-10 Batch 4:  Loss:     0.9800 Validation Accuracy: 0.620800\n",
      "Epoch 45, CIFAR-10 Batch 5:  Loss:     0.9531 Validation Accuracy: 0.620000\n",
      "Epoch 46, CIFAR-10 Batch 1:  Loss:     0.9439 Validation Accuracy: 0.625600\n",
      "Epoch 46, CIFAR-10 Batch 2:  Loss:     0.9349 Validation Accuracy: 0.624200\n",
      "Epoch 46, CIFAR-10 Batch 3:  Loss:     0.9474 Validation Accuracy: 0.618600\n",
      "Epoch 46, CIFAR-10 Batch 4:  Loss:     0.9748 Validation Accuracy: 0.622200\n",
      "Epoch 46, CIFAR-10 Batch 5:  Loss:     0.9503 Validation Accuracy: 0.620800\n",
      "Epoch 47, CIFAR-10 Batch 1:  Loss:     0.9384 Validation Accuracy: 0.622200\n",
      "Epoch 47, CIFAR-10 Batch 2:  Loss:     0.9282 Validation Accuracy: 0.625800\n",
      "Epoch 47, CIFAR-10 Batch 3:  Loss:     0.9434 Validation Accuracy: 0.619800\n",
      "Epoch 47, CIFAR-10 Batch 4:  Loss:     0.9697 Validation Accuracy: 0.622600\n",
      "Epoch 47, CIFAR-10 Batch 5:  Loss:     0.9476 Validation Accuracy: 0.618200\n",
      "Epoch 48, CIFAR-10 Batch 1:  Loss:     0.9324 Validation Accuracy: 0.628600\n",
      "Epoch 48, CIFAR-10 Batch 2:  Loss:     0.9217 Validation Accuracy: 0.624600\n",
      "Epoch 48, CIFAR-10 Batch 3:  Loss:     0.9330 Validation Accuracy: 0.624800\n",
      "Epoch 48, CIFAR-10 Batch 4:  Loss:     0.9601 Validation Accuracy: 0.628000\n",
      "Epoch 48, CIFAR-10 Batch 5:  Loss:     0.9317 Validation Accuracy: 0.622200\n",
      "Epoch 49, CIFAR-10 Batch 1:  Loss:     0.9262 Validation Accuracy: 0.624600\n",
      "Epoch 49, CIFAR-10 Batch 2:  Loss:     0.9139 Validation Accuracy: 0.627200\n",
      "Epoch 49, CIFAR-10 Batch 3:  Loss:     0.9258 Validation Accuracy: 0.620800\n",
      "Epoch 49, CIFAR-10 Batch 4:  Loss:     0.9483 Validation Accuracy: 0.626800\n",
      "Epoch 49, CIFAR-10 Batch 5:  Loss:     0.9322 Validation Accuracy: 0.624600\n",
      "Epoch 50, CIFAR-10 Batch 1:  Loss:     0.9254 Validation Accuracy: 0.626000\n",
      "Epoch 50, CIFAR-10 Batch 2:  Loss:     0.9119 Validation Accuracy: 0.625400\n",
      "Epoch 50, CIFAR-10 Batch 3:  Loss:     0.9097 Validation Accuracy: 0.631400\n",
      "Epoch 50, CIFAR-10 Batch 4:  Loss:     0.9441 Validation Accuracy: 0.627800\n",
      "Epoch 50, CIFAR-10 Batch 5:  Loss:     0.9230 Validation Accuracy: 0.628600\n"
     ]
    }
   ],
   "source": [
    "\"\"\"\n",
    "DON'T MODIFY ANYTHING IN THIS CELL\n",
    "\"\"\"\n",
    "save_model_path = './image_classification'\n",
    "\n",
    "print('Training...')\n",
    "with tf.Session() as sess:\n",
    "    # Initializing the variables\n",
    "    sess.run(tf.global_variables_initializer())\n",
    "    \n",
    "    # Training cycle\n",
    "    for epoch in range(epochs):\n",
    "        # Loop over all batches\n",
    "        n_batches = 5\n",
    "        for batch_i in range(1, n_batches + 1):\n",
    "            for batch_features, batch_labels in helper.load_preprocess_training_batch(batch_i, batch_size):\n",
    "                train_neural_network(sess, optimizer, keep_probability, batch_features, batch_labels)\n",
    "            print('Epoch {:>2}, CIFAR-10 Batch {}:  '.format(epoch + 1, batch_i), end='')\n",
    "            print_stats(sess, batch_features, batch_labels, cost, accuracy)\n",
    "            \n",
    "    # Save Model\n",
    "    saver = tf.train.Saver()\n",
    "    save_path = saver.save(sess, save_model_path)"
   ]
  },
  {
   "cell_type": "markdown",
   "metadata": {},
   "source": [
    "# Checkpoint\n",
    "The model has been saved to disk.\n",
    "## Test Model\n",
    "Test your model against the test dataset.  This will be your final accuracy. You should have an accuracy greater than 50%. If you don't, keep tweaking the model architecture and parameters."
   ]
  },
  {
   "cell_type": "code",
   "execution_count": 290,
   "metadata": {},
   "outputs": [
    {
     "name": "stdout",
     "output_type": "stream",
     "text": [
      "INFO:tensorflow:Restoring parameters from ./image_classification\n",
      "Testing Accuracy: 0.627594381570816\n",
      "\n"
     ]
    },
    {
     "data": {
      "image/png": "[encoded data removed]",
      "text/plain": [
       "<matplotlib.figure.Figure at 0x1dfacd4f4e0>"
      ]
     },
     "metadata": {
      "image/png": {
       "height": 319,
       "width": 355
      }
     },
     "output_type": "display_data"
    }
   ],
   "source": [
    "\"\"\"\n",
    "DON'T MODIFY ANYTHING IN THIS CELL\n",
    "\"\"\"\n",
    "%matplotlib inline\n",
    "%config InlineBackend.figure_format = 'retina'\n",
    "\n",
    "import tensorflow as tf\n",
    "import pickle\n",
    "import helper\n",
    "import random\n",
    "\n",
    "# Set batch size if not already set\n",
    "try:\n",
    "    if batch_size:\n",
    "        pass\n",
    "except NameError:\n",
    "    batch_size = 64\n",
    "\n",
    "save_model_path = './image_classification'\n",
    "n_samples = 4\n",
    "top_n_predictions = 3\n",
    "\n",
    "def test_model():\n",
    "    \"\"\"\n",
    "    Test the saved model against the test dataset\n",
    "    \"\"\"\n",
    "\n",
    "    test_features, test_labels = pickle.load(open('preprocess_test.p', mode='rb'))\n",
    "    loaded_graph = tf.Graph()\n",
    "\n",
    "    with tf.Session(graph=loaded_graph) as sess:\n",
    "        # Load model\n",
    "        loader = tf.train.import_meta_graph(save_model_path + '.meta')\n",
    "        loader.restore(sess, save_model_path)\n",
    "\n",
    "        # Get Tensors from loaded model\n",
    "        loaded_x = loaded_graph.get_tensor_by_name('x:0')\n",
    "        loaded_y = loaded_graph.get_tensor_by_name('y:0')\n",
    "        loaded_keep_prob = loaded_graph.get_tensor_by_name('keep_prob:0')\n",
    "        loaded_logits = loaded_graph.get_tensor_by_name('logits:0')\n",
    "        loaded_acc = loaded_graph.get_tensor_by_name('accuracy:0')\n",
    "        \n",
    "        # Get accuracy in batches for memory limitations\n",
    "        test_batch_acc_total = 0\n",
    "        test_batch_count = 0\n",
    "        \n",
    "        for test_feature_batch, test_label_batch in helper.batch_features_labels(test_features, test_labels, batch_size):\n",
    "            test_batch_acc_total += sess.run(\n",
    "                loaded_acc,\n",
    "                feed_dict={loaded_x: test_feature_batch, loaded_y: test_label_batch, loaded_keep_prob: 1.0})\n",
    "            test_batch_count += 1\n",
    "\n",
    "        print('Testing Accuracy: {}\\n'.format(test_batch_acc_total/test_batch_count))\n",
    "\n",
    "        # Print Random Samples\n",
    "        random_test_features, random_test_labels = tuple(zip(*random.sample(list(zip(test_features, test_labels)), n_samples)))\n",
    "        random_test_predictions = sess.run(\n",
    "            tf.nn.top_k(tf.nn.softmax(loaded_logits), top_n_predictions),\n",
    "            feed_dict={loaded_x: random_test_features, loaded_y: random_test_labels, loaded_keep_prob: 1.0})\n",
    "        helper.display_image_predictions(random_test_features, random_test_labels, random_test_predictions)\n",
    "\n",
    "\n",
    "test_model()"
   ]
  },
  {
   "cell_type": "markdown",
   "metadata": {},
   "source": [
    "## Why 50-80% Accuracy?\n",
    "You might be wondering why you can't get an accuracy any higher. First things first, 50% isn't bad for a simple CNN.  Pure guessing would get you 10% accuracy. However, you might notice people are getting scores [well above 80%](http://rodrigob.github.io/are_we_there_yet/build/classification_datasets_results.html#43494641522d3130).  That's because we haven't taught you all there is to know about neural networks. We still need to cover a few more techniques.\n",
    "## Submitting This Project\n",
    "When submitting this project, make sure to run all the cells before saving the notebook.  Save the notebook file as \"dlnd_image_classification.ipynb\" and save it as a HTML file under \"File\" -> \"Download as\".  Include the \"helper.py\" and \"problem_unittests.py\" files in your submission."
   ]
  }
 ],
 "metadata": {
  "kernelspec": {
   "display_name": "Python 3",
   "language": "python",
   "name": "python3"
  },
  "language_info": {
   "codemirror_mode": {
    "name": "ipython",
    "version": 3
   },
   "file_extension": ".py",
   "mimetype": "text/x-python",
   "name": "python",
   "nbconvert_exporter": "python",
   "pygments_lexer": "ipython3",
   "version": "3.6.1"
  }
 },
 "nbformat": 4,
 "nbformat_minor": 1
}
